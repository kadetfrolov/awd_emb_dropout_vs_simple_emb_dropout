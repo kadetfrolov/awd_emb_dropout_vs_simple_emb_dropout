{
 "cells": [
  {
   "cell_type": "code",
   "execution_count": 1,
   "metadata": {},
   "outputs": [],
   "source": [
    "import torch\n",
    "from torch import nn\n",
    "import torch.nn.functional as F"
   ]
  },
  {
   "cell_type": "markdown",
   "metadata": {},
   "source": [
    "# Copypaste EmbeddingDropout from awd-lstm repo"
   ]
  },
  {
   "cell_type": "code",
   "execution_count": 2,
   "metadata": {},
   "outputs": [],
   "source": [
    "# EmbeddingDropout from Jeremy Howard ULMfit\n",
    "# https://github.com/fastai/fastai/blob/5d45163c18f248f084af37fea39f9ab62083804a/fastai/text/models/awdlstm.py#L63\n",
    "class EmbeddingDropout(nn.Module):\n",
    "    \"\"\"Apply dropout with probability `embed_p` to an embedding layer `emb`.\"\"\"\n",
    "\n",
    "    def __init__(self, emb, embed_p):\n",
    "        super().__init__()\n",
    "        self.emb = emb\n",
    "        self.embed_p = embed_p\n",
    "\n",
    "    @staticmethod\n",
    "    def dropout_mask(x, sz, p):\n",
    "        \"\"\"Return a dropout mask of the same type as `x`, size `sz`,\n",
    "        with probability `p` to cancel an element.\"\"\"\n",
    "        return x.new_empty(*sz).bernoulli_(1 - p).div_(1 - p)\n",
    "\n",
    "    def forward(self, words, scale=None):\n",
    "        if self.training and self.embed_p != 0:\n",
    "            size = (self.emb.weight.size(0), 1)\n",
    "\n",
    "            mask = self.dropout_mask(self.emb.weight.data, size, self.embed_p)\n",
    "\n",
    "            masked_embed = self.emb.weight * mask\n",
    "        else:\n",
    "            masked_embed = self.emb.weight\n",
    "        if scale:\n",
    "            masked_embed.mul_(scale)\n",
    "        return F.embedding(\n",
    "            words,\n",
    "            masked_embed,\n",
    "            -1 if self.emb.padding_idx is None else self.emb.padding_idx,\n",
    "            self.emb.max_norm,\n",
    "            self.emb.norm_type,\n",
    "            self.emb.scale_grad_by_freq,\n",
    "            self.emb.sparse,\n",
    "        )"
   ]
  },
  {
   "cell_type": "code",
   "execution_count": 3,
   "metadata": {},
   "outputs": [],
   "source": [
    "EMB_DIM = 4\n",
    "VOCAB_SIZE = 10\n",
    "DROP_PROB = 0.8\n",
    "BATCH_SIZE = 2\n",
    "SEQ_LEN = 8"
   ]
  },
  {
   "cell_type": "code",
   "execution_count": 4,
   "metadata": {},
   "outputs": [],
   "source": [
    "emb_awd = EmbeddingDropout(nn.Embedding(VOCAB_SIZE, EMB_DIM), DROP_PROB)\n",
    "\n",
    "emb_dp = nn.Sequential(\n",
    "    nn.Embedding(VOCAB_SIZE, EMB_DIM),\n",
    "    nn.Dropout(DROP_PROB),\n",
    ")"
   ]
  },
  {
   "cell_type": "markdown",
   "metadata": {},
   "source": [
    "Embedding dropout from awd lstm randomly drops out the representation of the whole tokens"
   ]
  },
  {
   "cell_type": "code",
   "execution_count": 5,
   "metadata": {},
   "outputs": [
    {
     "data": {
      "text/plain": [
       "tensor([[[-0.0000, -0.0000,  0.0000, -0.0000],\n",
       "         [ 1.8552,  0.5323, -8.4268, -6.9215],\n",
       "         [-5.7353,  2.5569,  5.5145, -1.1451],\n",
       "         [-0.0000,  0.0000,  0.0000, -0.0000],\n",
       "         [ 0.0000,  0.0000,  0.0000, -0.0000],\n",
       "         [ 0.0000,  0.0000,  0.0000, -0.0000],\n",
       "         [ 0.0000,  0.0000, -0.0000, -0.0000],\n",
       "         [ 0.0000,  0.0000,  0.0000,  0.0000]],\n",
       "\n",
       "        [[ 1.8552,  0.5323, -8.4268, -6.9215],\n",
       "         [-0.0000,  0.0000,  0.0000, -0.0000],\n",
       "         [ 0.0000, -0.0000,  0.0000, -0.0000],\n",
       "         [ 0.0000,  0.0000,  0.0000,  0.0000],\n",
       "         [ 0.0000,  0.0000,  0.0000,  0.0000],\n",
       "         [ 0.0000,  0.0000,  0.0000,  0.0000],\n",
       "         [ 0.0000,  0.0000,  0.0000,  0.0000],\n",
       "         [ 1.8552,  0.5323, -8.4268, -6.9215]]], grad_fn=<EmbeddingBackward0>)"
      ]
     },
     "execution_count": 5,
     "metadata": {},
     "output_type": "execute_result"
    }
   ],
   "source": [
    "emb_awd(torch.randint(low=0, high=VOCAB_SIZE, size=(BATCH_SIZE, SEQ_LEN)))"
   ]
  },
  {
   "cell_type": "markdown",
   "metadata": {},
   "source": [
    "Embedding+dropout randomly drop out elements from tensor"
   ]
  },
  {
   "cell_type": "code",
   "execution_count": 6,
   "metadata": {},
   "outputs": [
    {
     "data": {
      "text/plain": [
       "tensor([[[-0.0000, -0.0000,  0.0000, -0.0000],\n",
       "         [ 4.2689, -0.0000,  0.0000,  0.0000],\n",
       "         [ 0.0000, -0.0000, -0.0000,  0.0000],\n",
       "         [ 0.0000,  8.0344, -0.0000,  2.5740],\n",
       "         [ 0.0000, -6.8144,  0.0000, -0.0000],\n",
       "         [-0.0000,  0.0000, -0.0000,  0.0000],\n",
       "         [ 0.0000, -0.0000,  0.0000, -0.0000],\n",
       "         [ 0.0000, -0.0000,  0.0000, -0.0000]],\n",
       "\n",
       "        [[-0.0000, -0.0000,  4.4746, -0.0000],\n",
       "         [-0.0000,  0.0000, -0.0000,  0.0000],\n",
       "         [ 0.0000,  0.0000, -0.0000,  2.5740],\n",
       "         [ 0.0000,  0.0000,  0.0000, -0.5320],\n",
       "         [-4.3530, -0.0000,  0.0000, -0.0000],\n",
       "         [ 0.0000, -0.0000, -0.0000,  0.0000],\n",
       "         [-0.0000, -0.0000,  4.4746, -0.0000],\n",
       "         [ 0.1999,  0.0000, -2.3915,  0.0000]]], grad_fn=<MulBackward0>)"
      ]
     },
     "execution_count": 6,
     "metadata": {},
     "output_type": "execute_result"
    }
   ],
   "source": [
    "emb_dp(torch.randint(low=0, high=VOCAB_SIZE, size=(BATCH_SIZE, SEQ_LEN)))"
   ]
  }
 ],
 "metadata": {
  "kernelspec": {
   "display_name": "Python 3",
   "language": "python",
   "name": "python3"
  },
  "language_info": {
   "codemirror_mode": {
    "name": "ipython",
    "version": 3
   },
   "file_extension": ".py",
   "mimetype": "text/x-python",
   "name": "python",
   "nbconvert_exporter": "python",
   "pygments_lexer": "ipython3",
   "version": "3.8.3"
  }
 },
 "nbformat": 4,
 "nbformat_minor": 4
}
